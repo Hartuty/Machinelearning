{
  "nbformat": 4,
  "nbformat_minor": 0,
  "metadata": {
    "colab": {
      "name": "CAT_1.ipynb",
      "provenance": [],
      "authorship_tag": "ABX9TyMMw8w8ft7O0HCmdG7BPOOo",
      "include_colab_link": true
    },
    "kernelspec": {
      "name": "python3",
      "display_name": "Python 3"
    }
  },
  "cells": [
    {
      "cell_type": "markdown",
      "metadata": {
        "id": "view-in-github",
        "colab_type": "text"
      },
      "source": [
        "<a href=\"https://colab.research.google.com/github/Hartuty/Machinelearning/blob/master/CAT_1.ipynb\" target=\"_parent\"><img src=\"https://colab.research.google.com/assets/colab-badge.svg\" alt=\"Open In Colab\"/></a>"
      ]
    },
    {
      "cell_type": "code",
      "metadata": {
        "id": "gUHu7rFl1FFa",
        "colab_type": "code",
        "colab": {}
      },
      "source": [
        "import numpy as np\n",
        "import pandas as pd\n",
        "import seaborn as sns\n",
        "import pandas.util.testing as tm\n",
        "from sklearn import svm\n",
        "from sklearn.decomposition import PCA\n",
        "from sklearn.datasets import fetch_california_housing\n",
        "from sklearn.preprocessing import LabelEncoder\n",
        "from sklearn.linear_model import LassoCV\n",
        "from sklearn import linear_model\n",
        "from sklearn.preprocessing import StandardScaler\n",
        "import matplotlib.pyplot as plt\n",
        "from sklearn.model_selection import train_test_split\n",
        "from sklearn.model_selection import KFold\n",
        "from sklearn.svm import SVR\n",
        "from sklearn.model_selection import cross_val_score"
      ],
      "execution_count": 0,
      "outputs": []
    },
    {
      "cell_type": "markdown",
      "metadata": {
        "id": "4gEhsO1R2EcM",
        "colab_type": "text"
      },
      "source": [
        "**i) Data Preparation**\n",
        "\n",
        "Loading the dataset from sklearn"
      ]
    },
    {
      "cell_type": "code",
      "metadata": {
        "id": "1rr5adGb15g7",
        "colab_type": "code",
        "outputId": "3c61a14a-9070-457e-a094-c6cd0cd3ee20",
        "colab": {
          "base_uri": "https://localhost:8080/",
          "height": 436
        }
      },
      "source": [
        "data= fetch_california_housing()\n",
        "data"
      ],
      "execution_count": 51,
      "outputs": [
        {
          "output_type": "execute_result",
          "data": {
            "text/plain": [
              "{'DESCR': '.. _california_housing_dataset:\\n\\nCalifornia Housing dataset\\n--------------------------\\n\\n**Data Set Characteristics:**\\n\\n    :Number of Instances: 20640\\n\\n    :Number of Attributes: 8 numeric, predictive attributes and the target\\n\\n    :Attribute Information:\\n        - MedInc        median income in block\\n        - HouseAge      median house age in block\\n        - AveRooms      average number of rooms\\n        - AveBedrms     average number of bedrooms\\n        - Population    block population\\n        - AveOccup      average house occupancy\\n        - Latitude      house block latitude\\n        - Longitude     house block longitude\\n\\n    :Missing Attribute Values: None\\n\\nThis dataset was obtained from the StatLib repository.\\nhttp://lib.stat.cmu.edu/datasets/\\n\\nThe target variable is the median house value for California districts.\\n\\nThis dataset was derived from the 1990 U.S. census, using one row per census\\nblock group. A block group is the smallest geographical unit for which the U.S.\\nCensus Bureau publishes sample data (a block group typically has a population\\nof 600 to 3,000 people).\\n\\nIt can be downloaded/loaded using the\\n:func:`sklearn.datasets.fetch_california_housing` function.\\n\\n.. topic:: References\\n\\n    - Pace, R. Kelley and Ronald Barry, Sparse Spatial Autoregressions,\\n      Statistics and Probability Letters, 33 (1997) 291-297\\n',\n",
              " 'data': array([[   8.3252    ,   41.        ,    6.98412698, ...,    2.55555556,\n",
              "           37.88      , -122.23      ],\n",
              "        [   8.3014    ,   21.        ,    6.23813708, ...,    2.10984183,\n",
              "           37.86      , -122.22      ],\n",
              "        [   7.2574    ,   52.        ,    8.28813559, ...,    2.80225989,\n",
              "           37.85      , -122.24      ],\n",
              "        ...,\n",
              "        [   1.7       ,   17.        ,    5.20554273, ...,    2.3256351 ,\n",
              "           39.43      , -121.22      ],\n",
              "        [   1.8672    ,   18.        ,    5.32951289, ...,    2.12320917,\n",
              "           39.43      , -121.32      ],\n",
              "        [   2.3886    ,   16.        ,    5.25471698, ...,    2.61698113,\n",
              "           39.37      , -121.24      ]]),\n",
              " 'feature_names': ['MedInc',\n",
              "  'HouseAge',\n",
              "  'AveRooms',\n",
              "  'AveBedrms',\n",
              "  'Population',\n",
              "  'AveOccup',\n",
              "  'Latitude',\n",
              "  'Longitude'],\n",
              " 'target': array([4.526, 3.585, 3.521, ..., 0.923, 0.847, 0.894])}"
            ]
          },
          "metadata": {
            "tags": []
          },
          "execution_count": 51
        }
      ]
    },
    {
      "cell_type": "markdown",
      "metadata": {
        "id": "vv6NZqbkWy9v",
        "colab_type": "text"
      },
      "source": [
        "Output the California Data"
      ]
    },
    {
      "cell_type": "code",
      "metadata": {
        "id": "B7aOmsc0Wx0I",
        "colab_type": "code",
        "colab": {
          "base_uri": "https://localhost:8080/",
          "height": 206
        },
        "outputId": "1cd30806-6f26-49c1-ff24-a36e27240708"
      },
      "source": [
        "\n",
        "#Converting to Dataframe format using pandas\n",
        "new_data=pd.DataFrame(data.data, columns=data.feature_names)\n",
        "new_data.head()"
      ],
      "execution_count": 52,
      "outputs": [
        {
          "output_type": "execute_result",
          "data": {
            "text/html": [
              "<div>\n",
              "<style scoped>\n",
              "    .dataframe tbody tr th:only-of-type {\n",
              "        vertical-align: middle;\n",
              "    }\n",
              "\n",
              "    .dataframe tbody tr th {\n",
              "        vertical-align: top;\n",
              "    }\n",
              "\n",
              "    .dataframe thead th {\n",
              "        text-align: right;\n",
              "    }\n",
              "</style>\n",
              "<table border=\"1\" class=\"dataframe\">\n",
              "  <thead>\n",
              "    <tr style=\"text-align: right;\">\n",
              "      <th></th>\n",
              "      <th>MedInc</th>\n",
              "      <th>HouseAge</th>\n",
              "      <th>AveRooms</th>\n",
              "      <th>AveBedrms</th>\n",
              "      <th>Population</th>\n",
              "      <th>AveOccup</th>\n",
              "      <th>Latitude</th>\n",
              "      <th>Longitude</th>\n",
              "    </tr>\n",
              "  </thead>\n",
              "  <tbody>\n",
              "    <tr>\n",
              "      <th>0</th>\n",
              "      <td>8.3252</td>\n",
              "      <td>41.0</td>\n",
              "      <td>6.984127</td>\n",
              "      <td>1.023810</td>\n",
              "      <td>322.0</td>\n",
              "      <td>2.555556</td>\n",
              "      <td>37.88</td>\n",
              "      <td>-122.23</td>\n",
              "    </tr>\n",
              "    <tr>\n",
              "      <th>1</th>\n",
              "      <td>8.3014</td>\n",
              "      <td>21.0</td>\n",
              "      <td>6.238137</td>\n",
              "      <td>0.971880</td>\n",
              "      <td>2401.0</td>\n",
              "      <td>2.109842</td>\n",
              "      <td>37.86</td>\n",
              "      <td>-122.22</td>\n",
              "    </tr>\n",
              "    <tr>\n",
              "      <th>2</th>\n",
              "      <td>7.2574</td>\n",
              "      <td>52.0</td>\n",
              "      <td>8.288136</td>\n",
              "      <td>1.073446</td>\n",
              "      <td>496.0</td>\n",
              "      <td>2.802260</td>\n",
              "      <td>37.85</td>\n",
              "      <td>-122.24</td>\n",
              "    </tr>\n",
              "    <tr>\n",
              "      <th>3</th>\n",
              "      <td>5.6431</td>\n",
              "      <td>52.0</td>\n",
              "      <td>5.817352</td>\n",
              "      <td>1.073059</td>\n",
              "      <td>558.0</td>\n",
              "      <td>2.547945</td>\n",
              "      <td>37.85</td>\n",
              "      <td>-122.25</td>\n",
              "    </tr>\n",
              "    <tr>\n",
              "      <th>4</th>\n",
              "      <td>3.8462</td>\n",
              "      <td>52.0</td>\n",
              "      <td>6.281853</td>\n",
              "      <td>1.081081</td>\n",
              "      <td>565.0</td>\n",
              "      <td>2.181467</td>\n",
              "      <td>37.85</td>\n",
              "      <td>-122.25</td>\n",
              "    </tr>\n",
              "  </tbody>\n",
              "</table>\n",
              "</div>"
            ],
            "text/plain": [
              "   MedInc  HouseAge  AveRooms  ...  AveOccup  Latitude  Longitude\n",
              "0  8.3252      41.0  6.984127  ...  2.555556     37.88    -122.23\n",
              "1  8.3014      21.0  6.238137  ...  2.109842     37.86    -122.22\n",
              "2  7.2574      52.0  8.288136  ...  2.802260     37.85    -122.24\n",
              "3  5.6431      52.0  5.817352  ...  2.547945     37.85    -122.25\n",
              "4  3.8462      52.0  6.281853  ...  2.181467     37.85    -122.25\n",
              "\n",
              "[5 rows x 8 columns]"
            ]
          },
          "metadata": {
            "tags": []
          },
          "execution_count": 52
        }
      ]
    },
    {
      "cell_type": "markdown",
      "metadata": {
        "id": "9a_UNSZJeeab",
        "colab_type": "text"
      },
      "source": [
        "Finding Missing Values\n"
      ]
    },
    {
      "cell_type": "code",
      "metadata": {
        "id": "4Q_OxkrMein_",
        "colab_type": "code",
        "colab": {
          "base_uri": "https://localhost:8080/",
          "height": 34
        },
        "outputId": "6b0d15aa-3909-43b6-c400-0971962fd40b"
      },
      "source": [
        "new_data.head(20).isnull().sum().sum()\n",
        "#The data does not have any missing Values"
      ],
      "execution_count": 53,
      "outputs": [
        {
          "output_type": "execute_result",
          "data": {
            "text/plain": [
              "0"
            ]
          },
          "metadata": {
            "tags": []
          },
          "execution_count": 53
        }
      ]
    },
    {
      "cell_type": "markdown",
      "metadata": {
        "id": "DTkhgKz4i3zS",
        "colab_type": "text"
      },
      "source": [
        "Beggining of Encoding and Feature Selection"
      ]
    },
    {
      "cell_type": "code",
      "metadata": {
        "id": "gnEed-Hfi9fz",
        "colab_type": "code",
        "colab": {
          "base_uri": "https://localhost:8080/",
          "height": 424
        },
        "outputId": "9e54a413-fc85-4120-de44-0183a6df8eb4"
      },
      "source": [
        "column_names=data.feature_names\n",
        "target=data.target\n",
        "categorical_data=new_data\n",
        "numerical=['MedInc','HouseAge','AveRooms','AveBedrms','Population','AveOccup']\n",
        "\n",
        "for feature in column_names:\n",
        "  categorical_data[feature]=categorical_data[feature].astype('category')\n",
        "\n",
        "for feature in numerical:\n",
        "  categorical_data[feature]= categorical_data[feature].cat.codes\n",
        "\n",
        "categorical_data\n",
        "\n"
      ],
      "execution_count": 54,
      "outputs": [
        {
          "output_type": "execute_result",
          "data": {
            "text/html": [
              "<div>\n",
              "<style scoped>\n",
              "    .dataframe tbody tr th:only-of-type {\n",
              "        vertical-align: middle;\n",
              "    }\n",
              "\n",
              "    .dataframe tbody tr th {\n",
              "        vertical-align: top;\n",
              "    }\n",
              "\n",
              "    .dataframe thead th {\n",
              "        text-align: right;\n",
              "    }\n",
              "</style>\n",
              "<table border=\"1\" class=\"dataframe\">\n",
              "  <thead>\n",
              "    <tr style=\"text-align: right;\">\n",
              "      <th></th>\n",
              "      <th>MedInc</th>\n",
              "      <th>HouseAge</th>\n",
              "      <th>AveRooms</th>\n",
              "      <th>AveBedrms</th>\n",
              "      <th>Population</th>\n",
              "      <th>AveOccup</th>\n",
              "      <th>Latitude</th>\n",
              "      <th>Longitude</th>\n",
              "    </tr>\n",
              "  </thead>\n",
              "  <tbody>\n",
              "    <tr>\n",
              "      <th>0</th>\n",
              "      <td>12416</td>\n",
              "      <td>40</td>\n",
              "      <td>17422</td>\n",
              "      <td>4683</td>\n",
              "      <td>296</td>\n",
              "      <td>6200</td>\n",
              "      <td>37.88</td>\n",
              "      <td>-122.23</td>\n",
              "    </tr>\n",
              "    <tr>\n",
              "      <th>1</th>\n",
              "      <td>12411</td>\n",
              "      <td>20</td>\n",
              "      <td>15292</td>\n",
              "      <td>1747</td>\n",
              "      <td>2346</td>\n",
              "      <td>2171</td>\n",
              "      <td>37.86</td>\n",
              "      <td>-122.22</td>\n",
              "    </tr>\n",
              "    <tr>\n",
              "      <th>2</th>\n",
              "      <td>11941</td>\n",
              "      <td>51</td>\n",
              "      <td>18851</td>\n",
              "      <td>8436</td>\n",
              "      <td>469</td>\n",
              "      <td>9150</td>\n",
              "      <td>37.85</td>\n",
              "      <td>-122.24</td>\n",
              "    </tr>\n",
              "    <tr>\n",
              "      <th>3</th>\n",
              "      <td>10269</td>\n",
              "      <td>51</td>\n",
              "      <td>13297</td>\n",
              "      <td>8416</td>\n",
              "      <td>531</td>\n",
              "      <td>6102</td>\n",
              "      <td>37.85</td>\n",
              "      <td>-122.25</td>\n",
              "    </tr>\n",
              "    <tr>\n",
              "      <th>4</th>\n",
              "      <td>6656</td>\n",
              "      <td>51</td>\n",
              "      <td>15461</td>\n",
              "      <td>8951</td>\n",
              "      <td>538</td>\n",
              "      <td>2620</td>\n",
              "      <td>37.85</td>\n",
              "      <td>-122.25</td>\n",
              "    </tr>\n",
              "    <tr>\n",
              "      <th>...</th>\n",
              "      <td>...</td>\n",
              "      <td>...</td>\n",
              "      <td>...</td>\n",
              "      <td>...</td>\n",
              "      <td>...</td>\n",
              "      <td>...</td>\n",
              "      <td>...</td>\n",
              "      <td>...</td>\n",
              "    </tr>\n",
              "    <tr>\n",
              "      <th>20635</th>\n",
              "      <td>740</td>\n",
              "      <td>24</td>\n",
              "      <td>8473</td>\n",
              "      <td>11414</td>\n",
              "      <td>818</td>\n",
              "      <td>6253</td>\n",
              "      <td>39.48</td>\n",
              "      <td>-121.09</td>\n",
              "    </tr>\n",
              "    <tr>\n",
              "      <th>20636</th>\n",
              "      <td>3179</td>\n",
              "      <td>17</td>\n",
              "      <td>14726</td>\n",
              "      <td>13437</td>\n",
              "      <td>330</td>\n",
              "      <td>12675</td>\n",
              "      <td>39.49</td>\n",
              "      <td>-121.21</td>\n",
              "    </tr>\n",
              "    <tr>\n",
              "      <th>20637</th>\n",
              "      <td>1037</td>\n",
              "      <td>16</td>\n",
              "      <td>9514</td>\n",
              "      <td>10951</td>\n",
              "      <td>980</td>\n",
              "      <td>3757</td>\n",
              "      <td>39.43</td>\n",
              "      <td>-121.22</td>\n",
              "    </tr>\n",
              "    <tr>\n",
              "      <th>20638</th>\n",
              "      <td>1405</td>\n",
              "      <td>17</td>\n",
              "      <td>10299</td>\n",
              "      <td>12362</td>\n",
              "      <td>714</td>\n",
              "      <td>2249</td>\n",
              "      <td>39.43</td>\n",
              "      <td>-121.32</td>\n",
              "    </tr>\n",
              "    <tr>\n",
              "      <th>20639</th>\n",
              "      <td>2752</td>\n",
              "      <td>15</td>\n",
              "      <td>9811</td>\n",
              "      <td>12160</td>\n",
              "      <td>1360</td>\n",
              "      <td>6924</td>\n",
              "      <td>39.37</td>\n",
              "      <td>-121.24</td>\n",
              "    </tr>\n",
              "  </tbody>\n",
              "</table>\n",
              "<p>20640 rows × 8 columns</p>\n",
              "</div>"
            ],
            "text/plain": [
              "       MedInc  HouseAge  AveRooms  ...  AveOccup  Latitude  Longitude\n",
              "0       12416        40     17422  ...      6200     37.88    -122.23\n",
              "1       12411        20     15292  ...      2171     37.86    -122.22\n",
              "2       11941        51     18851  ...      9150     37.85    -122.24\n",
              "3       10269        51     13297  ...      6102     37.85    -122.25\n",
              "4        6656        51     15461  ...      2620     37.85    -122.25\n",
              "...       ...       ...       ...  ...       ...       ...        ...\n",
              "20635     740        24      8473  ...      6253     39.48    -121.09\n",
              "20636    3179        17     14726  ...     12675     39.49    -121.21\n",
              "20637    1037        16      9514  ...      3757     39.43    -121.22\n",
              "20638    1405        17     10299  ...      2249     39.43    -121.32\n",
              "20639    2752        15      9811  ...      6924     39.37    -121.24\n",
              "\n",
              "[20640 rows x 8 columns]"
            ]
          },
          "metadata": {
            "tags": []
          },
          "execution_count": 54
        }
      ]
    },
    {
      "cell_type": "markdown",
      "metadata": {
        "id": "myH0bC34GllK",
        "colab_type": "text"
      },
      "source": [
        "Drop Location Details from the dataset \n"
      ]
    },
    {
      "cell_type": "code",
      "metadata": {
        "id": "l4suUmpbGsoz",
        "colab_type": "code",
        "colab": {}
      },
      "source": [
        "categorical_data.drop('Latitude',axis=1,inplace=True)\n",
        "categorical_data.drop('Longitude',axis=1,inplace=True)"
      ],
      "execution_count": 0,
      "outputs": []
    },
    {
      "cell_type": "markdown",
      "metadata": {
        "id": "0VIEJdx-qV8h",
        "colab_type": "text"
      },
      "source": [
        "Combining Data with the target"
      ]
    },
    {
      "cell_type": "code",
      "metadata": {
        "id": "CC1vd4bKqbZb",
        "colab_type": "code",
        "colab": {
          "base_uri": "https://localhost:8080/",
          "height": 424
        },
        "outputId": "dc0b4485-3807-47bf-8337-df1345c44417"
      },
      "source": [
        "data_copy=categorical_data.copy()\n",
        "\n",
        "#Generating dataframe from target array\n",
        "dataset = pd.DataFrame({'Target':data.target})\n",
        "dataset\n",
        "\n",
        "\n",
        "temp_data = pd.concat([data_copy,dataset],axis=1)\n",
        "temp_data\n"
      ],
      "execution_count": 56,
      "outputs": [
        {
          "output_type": "execute_result",
          "data": {
            "text/html": [
              "<div>\n",
              "<style scoped>\n",
              "    .dataframe tbody tr th:only-of-type {\n",
              "        vertical-align: middle;\n",
              "    }\n",
              "\n",
              "    .dataframe tbody tr th {\n",
              "        vertical-align: top;\n",
              "    }\n",
              "\n",
              "    .dataframe thead th {\n",
              "        text-align: right;\n",
              "    }\n",
              "</style>\n",
              "<table border=\"1\" class=\"dataframe\">\n",
              "  <thead>\n",
              "    <tr style=\"text-align: right;\">\n",
              "      <th></th>\n",
              "      <th>MedInc</th>\n",
              "      <th>HouseAge</th>\n",
              "      <th>AveRooms</th>\n",
              "      <th>AveBedrms</th>\n",
              "      <th>Population</th>\n",
              "      <th>AveOccup</th>\n",
              "      <th>Target</th>\n",
              "    </tr>\n",
              "  </thead>\n",
              "  <tbody>\n",
              "    <tr>\n",
              "      <th>0</th>\n",
              "      <td>12416</td>\n",
              "      <td>40</td>\n",
              "      <td>17422</td>\n",
              "      <td>4683</td>\n",
              "      <td>296</td>\n",
              "      <td>6200</td>\n",
              "      <td>4.526</td>\n",
              "    </tr>\n",
              "    <tr>\n",
              "      <th>1</th>\n",
              "      <td>12411</td>\n",
              "      <td>20</td>\n",
              "      <td>15292</td>\n",
              "      <td>1747</td>\n",
              "      <td>2346</td>\n",
              "      <td>2171</td>\n",
              "      <td>3.585</td>\n",
              "    </tr>\n",
              "    <tr>\n",
              "      <th>2</th>\n",
              "      <td>11941</td>\n",
              "      <td>51</td>\n",
              "      <td>18851</td>\n",
              "      <td>8436</td>\n",
              "      <td>469</td>\n",
              "      <td>9150</td>\n",
              "      <td>3.521</td>\n",
              "    </tr>\n",
              "    <tr>\n",
              "      <th>3</th>\n",
              "      <td>10269</td>\n",
              "      <td>51</td>\n",
              "      <td>13297</td>\n",
              "      <td>8416</td>\n",
              "      <td>531</td>\n",
              "      <td>6102</td>\n",
              "      <td>3.413</td>\n",
              "    </tr>\n",
              "    <tr>\n",
              "      <th>4</th>\n",
              "      <td>6656</td>\n",
              "      <td>51</td>\n",
              "      <td>15461</td>\n",
              "      <td>8951</td>\n",
              "      <td>538</td>\n",
              "      <td>2620</td>\n",
              "      <td>3.422</td>\n",
              "    </tr>\n",
              "    <tr>\n",
              "      <th>...</th>\n",
              "      <td>...</td>\n",
              "      <td>...</td>\n",
              "      <td>...</td>\n",
              "      <td>...</td>\n",
              "      <td>...</td>\n",
              "      <td>...</td>\n",
              "      <td>...</td>\n",
              "    </tr>\n",
              "    <tr>\n",
              "      <th>20635</th>\n",
              "      <td>740</td>\n",
              "      <td>24</td>\n",
              "      <td>8473</td>\n",
              "      <td>11414</td>\n",
              "      <td>818</td>\n",
              "      <td>6253</td>\n",
              "      <td>0.781</td>\n",
              "    </tr>\n",
              "    <tr>\n",
              "      <th>20636</th>\n",
              "      <td>3179</td>\n",
              "      <td>17</td>\n",
              "      <td>14726</td>\n",
              "      <td>13437</td>\n",
              "      <td>330</td>\n",
              "      <td>12675</td>\n",
              "      <td>0.771</td>\n",
              "    </tr>\n",
              "    <tr>\n",
              "      <th>20637</th>\n",
              "      <td>1037</td>\n",
              "      <td>16</td>\n",
              "      <td>9514</td>\n",
              "      <td>10951</td>\n",
              "      <td>980</td>\n",
              "      <td>3757</td>\n",
              "      <td>0.923</td>\n",
              "    </tr>\n",
              "    <tr>\n",
              "      <th>20638</th>\n",
              "      <td>1405</td>\n",
              "      <td>17</td>\n",
              "      <td>10299</td>\n",
              "      <td>12362</td>\n",
              "      <td>714</td>\n",
              "      <td>2249</td>\n",
              "      <td>0.847</td>\n",
              "    </tr>\n",
              "    <tr>\n",
              "      <th>20639</th>\n",
              "      <td>2752</td>\n",
              "      <td>15</td>\n",
              "      <td>9811</td>\n",
              "      <td>12160</td>\n",
              "      <td>1360</td>\n",
              "      <td>6924</td>\n",
              "      <td>0.894</td>\n",
              "    </tr>\n",
              "  </tbody>\n",
              "</table>\n",
              "<p>20640 rows × 7 columns</p>\n",
              "</div>"
            ],
            "text/plain": [
              "       MedInc  HouseAge  AveRooms  AveBedrms  Population  AveOccup  Target\n",
              "0       12416        40     17422       4683         296      6200   4.526\n",
              "1       12411        20     15292       1747        2346      2171   3.585\n",
              "2       11941        51     18851       8436         469      9150   3.521\n",
              "3       10269        51     13297       8416         531      6102   3.413\n",
              "4        6656        51     15461       8951         538      2620   3.422\n",
              "...       ...       ...       ...        ...         ...       ...     ...\n",
              "20635     740        24      8473      11414         818      6253   0.781\n",
              "20636    3179        17     14726      13437         330     12675   0.771\n",
              "20637    1037        16      9514      10951         980      3757   0.923\n",
              "20638    1405        17     10299      12362         714      2249   0.847\n",
              "20639    2752        15      9811      12160        1360      6924   0.894\n",
              "\n",
              "[20640 rows x 7 columns]"
            ]
          },
          "metadata": {
            "tags": []
          },
          "execution_count": 56
        }
      ]
    },
    {
      "cell_type": "markdown",
      "metadata": {
        "id": "fw9FbIrxA4-S",
        "colab_type": "text"
      },
      "source": [
        "Slicing the Data\n"
      ]
    },
    {
      "cell_type": "code",
      "metadata": {
        "id": "UnEWU8YzA7aR",
        "colab_type": "code",
        "colab": {
          "base_uri": "https://localhost:8080/",
          "height": 139
        },
        "outputId": "7fd0b226-479e-4f1a-fab7-20f7a3e91d68"
      },
      "source": [
        "all_features = list(temp_data.columns)\n",
        "X = temp_data.loc[:,all_features].values\n",
        "y = temp_data.loc[:,['Target']].values\n",
        "y"
      ],
      "execution_count": 57,
      "outputs": [
        {
          "output_type": "execute_result",
          "data": {
            "text/plain": [
              "array([[4.526],\n",
              "       [3.585],\n",
              "       [3.521],\n",
              "       ...,\n",
              "       [0.923],\n",
              "       [0.847],\n",
              "       [0.894]])"
            ]
          },
          "metadata": {
            "tags": []
          },
          "execution_count": 57
        }
      ]
    },
    {
      "cell_type": "markdown",
      "metadata": {
        "id": "yuB3QkHVBQ6L",
        "colab_type": "text"
      },
      "source": [
        "Standardize X"
      ]
    },
    {
      "cell_type": "code",
      "metadata": {
        "id": "YjruPEu1BTYc",
        "colab_type": "code",
        "colab": {
          "base_uri": "https://localhost:8080/",
          "height": 243
        },
        "outputId": "b748ebf4-8bdc-4f02-cf19-a7278b20501a"
      },
      "source": [
        "X = StandardScaler().fit_transform(X)\n",
        "X"
      ],
      "execution_count": 58,
      "outputs": [
        {
          "output_type": "execute_result",
          "data": {
            "text/plain": [
              "array([[ 1.88280191,  0.98214266,  1.39664548, ..., -1.28809653,\n",
              "        -0.59536054,  2.12963148],\n",
              "       [ 1.88133306, -0.60701891,  1.01265515, ...,  1.29226284,\n",
              "        -1.34674917,  1.31415614],\n",
              "       [ 1.74326137,  1.85618152,  1.65426152, ..., -1.07033937,\n",
              "        -0.04520009,  1.25869341],\n",
              "       ...,\n",
              "       [-1.46000195, -0.92485123, -0.0289862 , ..., -0.4271376 ,\n",
              "        -1.05096799, -0.99274649],\n",
              "       [-1.35189475, -0.84539315,  0.11253136, ..., -0.76195496,\n",
              "        -1.33220255, -1.05860847],\n",
              "       [-0.95618715, -1.00430931,  0.02455611, ...,  0.05117292,\n",
              "        -0.46033811, -1.01787803]])"
            ]
          },
          "metadata": {
            "tags": []
          },
          "execution_count": 58
        }
      ]
    },
    {
      "cell_type": "markdown",
      "metadata": {
        "id": "FLOKvzazCCy2",
        "colab_type": "text"
      },
      "source": [
        "Calculation of Pricipal Components"
      ]
    },
    {
      "cell_type": "code",
      "metadata": {
        "id": "R5t5IsHWCJMf",
        "colab_type": "code",
        "colab": {
          "base_uri": "https://localhost:8080/",
          "height": 424
        },
        "outputId": "230c9bfa-115d-4f09-ebf5-a9230537ca16"
      },
      "source": [
        "#Principle components\n",
        "pca=PCA(n_components=5)\n",
        "pc_s=pca.fit_transform(X)\n",
        "#Returning Principle Components\n",
        "pca_data=pd.DataFrame(pc_s,columns=['PC1','PC2','PC3','PC4','PC5'])\n",
        "final_data = pd.concat([pca_data,dataset],axis=1)\n",
        "final_data"
      ],
      "execution_count": 59,
      "outputs": [
        {
          "output_type": "execute_result",
          "data": {
            "text/html": [
              "<div>\n",
              "<style scoped>\n",
              "    .dataframe tbody tr th:only-of-type {\n",
              "        vertical-align: middle;\n",
              "    }\n",
              "\n",
              "    .dataframe tbody tr th {\n",
              "        vertical-align: top;\n",
              "    }\n",
              "\n",
              "    .dataframe thead th {\n",
              "        text-align: right;\n",
              "    }\n",
              "</style>\n",
              "<table border=\"1\" class=\"dataframe\">\n",
              "  <thead>\n",
              "    <tr style=\"text-align: right;\">\n",
              "      <th></th>\n",
              "      <th>PC1</th>\n",
              "      <th>PC2</th>\n",
              "      <th>PC3</th>\n",
              "      <th>PC4</th>\n",
              "      <th>PC5</th>\n",
              "      <th>Target</th>\n",
              "    </tr>\n",
              "  </thead>\n",
              "  <tbody>\n",
              "    <tr>\n",
              "      <th>0</th>\n",
              "      <td>3.149807</td>\n",
              "      <td>-1.720124</td>\n",
              "      <td>0.306544</td>\n",
              "      <td>-0.405629</td>\n",
              "      <td>0.358846</td>\n",
              "      <td>4.526</td>\n",
              "    </tr>\n",
              "    <tr>\n",
              "      <th>1</th>\n",
              "      <td>2.760000</td>\n",
              "      <td>0.472480</td>\n",
              "      <td>0.388247</td>\n",
              "      <td>1.621699</td>\n",
              "      <td>-0.614997</td>\n",
              "      <td>3.585</td>\n",
              "    </tr>\n",
              "    <tr>\n",
              "      <th>2</th>\n",
              "      <td>2.439989</td>\n",
              "      <td>-1.558567</td>\n",
              "      <td>0.048763</td>\n",
              "      <td>-1.223119</td>\n",
              "      <td>1.384052</td>\n",
              "      <td>3.521</td>\n",
              "    </tr>\n",
              "    <tr>\n",
              "      <th>3</th>\n",
              "      <td>1.637353</td>\n",
              "      <td>-1.963016</td>\n",
              "      <td>-0.132619</td>\n",
              "      <td>-0.427829</td>\n",
              "      <td>1.139497</td>\n",
              "      <td>3.413</td>\n",
              "    </tr>\n",
              "    <tr>\n",
              "      <th>4</th>\n",
              "      <td>1.232461</td>\n",
              "      <td>-2.221450</td>\n",
              "      <td>-0.794961</td>\n",
              "      <td>-0.304465</td>\n",
              "      <td>0.964771</td>\n",
              "      <td>3.422</td>\n",
              "    </tr>\n",
              "    <tr>\n",
              "      <th>...</th>\n",
              "      <td>...</td>\n",
              "      <td>...</td>\n",
              "      <td>...</td>\n",
              "      <td>...</td>\n",
              "      <td>...</td>\n",
              "      <td>...</td>\n",
              "    </tr>\n",
              "    <tr>\n",
              "      <th>20635</th>\n",
              "      <td>-1.695531</td>\n",
              "      <td>-0.225352</td>\n",
              "      <td>-1.568692</td>\n",
              "      <td>-0.525932</td>\n",
              "      <td>-0.379190</td>\n",
              "      <td>0.781</td>\n",
              "    </tr>\n",
              "    <tr>\n",
              "      <th>20636</th>\n",
              "      <td>-0.799852</td>\n",
              "      <td>0.588449</td>\n",
              "      <td>-1.661786</td>\n",
              "      <td>-2.074731</td>\n",
              "      <td>-0.173721</td>\n",
              "      <td>0.771</td>\n",
              "    </tr>\n",
              "    <tr>\n",
              "      <th>20637</th>\n",
              "      <td>-1.343360</td>\n",
              "      <td>0.089845</td>\n",
              "      <td>-1.892499</td>\n",
              "      <td>-0.153518</td>\n",
              "      <td>-0.875002</td>\n",
              "      <td>0.923</td>\n",
              "    </tr>\n",
              "    <tr>\n",
              "      <th>20638</th>\n",
              "      <td>-1.234447</td>\n",
              "      <td>-0.184414</td>\n",
              "      <td>-2.338734</td>\n",
              "      <td>-0.372928</td>\n",
              "      <td>-0.879774</td>\n",
              "      <td>0.847</td>\n",
              "    </tr>\n",
              "    <tr>\n",
              "      <th>20639</th>\n",
              "      <td>-1.135280</td>\n",
              "      <td>0.756713</td>\n",
              "      <td>-1.727342</td>\n",
              "      <td>-0.244317</td>\n",
              "      <td>-0.367645</td>\n",
              "      <td>0.894</td>\n",
              "    </tr>\n",
              "  </tbody>\n",
              "</table>\n",
              "<p>20640 rows × 6 columns</p>\n",
              "</div>"
            ],
            "text/plain": [
              "            PC1       PC2       PC3       PC4       PC5  Target\n",
              "0      3.149807 -1.720124  0.306544 -0.405629  0.358846   4.526\n",
              "1      2.760000  0.472480  0.388247  1.621699 -0.614997   3.585\n",
              "2      2.439989 -1.558567  0.048763 -1.223119  1.384052   3.521\n",
              "3      1.637353 -1.963016 -0.132619 -0.427829  1.139497   3.413\n",
              "4      1.232461 -2.221450 -0.794961 -0.304465  0.964771   3.422\n",
              "...         ...       ...       ...       ...       ...     ...\n",
              "20635 -1.695531 -0.225352 -1.568692 -0.525932 -0.379190   0.781\n",
              "20636 -0.799852  0.588449 -1.661786 -2.074731 -0.173721   0.771\n",
              "20637 -1.343360  0.089845 -1.892499 -0.153518 -0.875002   0.923\n",
              "20638 -1.234447 -0.184414 -2.338734 -0.372928 -0.879774   0.847\n",
              "20639 -1.135280  0.756713 -1.727342 -0.244317 -0.367645   0.894\n",
              "\n",
              "[20640 rows x 6 columns]"
            ]
          },
          "metadata": {
            "tags": []
          },
          "execution_count": 59
        }
      ]
    },
    {
      "cell_type": "markdown",
      "metadata": {
        "id": "Bvuxh9JNC0uQ",
        "colab_type": "text"
      },
      "source": [
        "Calculating the Variance"
      ]
    },
    {
      "cell_type": "code",
      "metadata": {
        "id": "qrlGUGAdDBb-",
        "colab_type": "code",
        "colab": {}
      },
      "source": [
        "arr=pca.explained_variance_ratio_"
      ],
      "execution_count": 0,
      "outputs": []
    },
    {
      "cell_type": "markdown",
      "metadata": {
        "id": "xWsJMgwaHuZ6",
        "colab_type": "text"
      },
      "source": [
        "Finding the total variance"
      ]
    },
    {
      "cell_type": "code",
      "metadata": {
        "id": "NjSt-kywILDV",
        "colab_type": "code",
        "colab": {
          "base_uri": "https://localhost:8080/",
          "height": 34
        },
        "outputId": "e78e0413-5944-4ba1-f2dd-f615cdf61b06"
      },
      "source": [
        "sum =0\n",
        "for i in range(0, len(arr)):    \n",
        "   sum = sum + arr[i];\n",
        "Variance=sum*100\n",
        "\n",
        "\n",
        "print('PCA variance is '+str(Variance) +'%')"
      ],
      "execution_count": 61,
      "outputs": [
        {
          "output_type": "stream",
          "text": [
            "PCA variance is 92.324677105507%\n"
          ],
          "name": "stdout"
        }
      ]
    },
    {
      "cell_type": "markdown",
      "metadata": {
        "id": "ky5ugVjLJgpG",
        "colab_type": "text"
      },
      "source": [
        "**ii) Using Seabon Plot**\n",
        "\n",
        "Using Seabon Library to pair a plot of all attributes to the Target"
      ]
    },
    {
      "cell_type": "markdown",
      "metadata": {
        "id": "n_W_AxZkP-44",
        "colab_type": "text"
      },
      "source": [
        "Plot of Median Income and Target"
      ]
    },
    {
      "cell_type": "code",
      "metadata": {
        "id": "sJOxQTdbJzjg",
        "colab_type": "code",
        "colab": {
          "base_uri": "https://localhost:8080/",
          "height": 404
        },
        "outputId": "40d0ea6d-1fb9-4819-96e0-524c891d5db3"
      },
      "source": [
        "plot_data=pd.DataFrame(data.data, columns=data.feature_names)\n",
        "target_data=pd.DataFrame({'Target':data.target})\n",
        "data_MedInc=pd.concat([plot_data['MedInc'],target_data],axis=1)\n",
        "data_MedInc\n",
        "sns.pairplot(data_MedInc,kind='reg',diag_kind='kde')"
      ],
      "execution_count": 62,
      "outputs": [
        {
          "output_type": "execute_result",
          "data": {
            "text/plain": [
              "<seaborn.axisgrid.PairGrid at 0x7f1318c1c5f8>"
            ]
          },
          "metadata": {
            "tags": []
          },
          "execution_count": 62
        },
        {
          "output_type": "display_data",
          "data": {
            "image/png": "[encoded data removed]",
            "text/plain": [
              "<Figure size 360x360 with 6 Axes>"
            ]
          },
          "metadata": {
            "tags": [],
            "needs_background": "light"
          }
        }
      ]
    },
    {
      "cell_type": "markdown",
      "metadata": {
        "id": "WNUoYKagP5z8",
        "colab_type": "text"
      },
      "source": [
        "Plot of HouseAge and Target"
      ]
    },
    {
      "cell_type": "code",
      "metadata": {
        "id": "34i3gl3xNNnw",
        "colab_type": "code",
        "colab": {
          "base_uri": "https://localhost:8080/",
          "height": 404
        },
        "outputId": "7cfeb8fc-1c35-41c7-f22c-214c383cfb27"
      },
      "source": [
        "data_plot=pd.concat([plot_data['HouseAge'],target_data],axis=1)\n",
        "data_plot\n",
        "sns.pairplot(data_plot,kind='reg',diag_kind='kde')"
      ],
      "execution_count": 63,
      "outputs": [
        {
          "output_type": "execute_result",
          "data": {
            "text/plain": [
              "<seaborn.axisgrid.PairGrid at 0x7f1313502630>"
            ]
          },
          "metadata": {
            "tags": []
          },
          "execution_count": 63
        },
        {
          "output_type": "display_data",
          "data": {
            "image/png": "[encoded data removed]",
            "text/plain": [
              "<Figure size 360x360 with 6 Axes>"
            ]
          },
          "metadata": {
            "tags": [],
            "needs_background": "light"
          }
        }
      ]
    },
    {
      "cell_type": "markdown",
      "metadata": {
        "id": "YrgkGDhANuFM",
        "colab_type": "text"
      },
      "source": [
        "Plot of Average Rooms and Target"
      ]
    },
    {
      "cell_type": "code",
      "metadata": {
        "id": "-MViL2JpNuhf",
        "colab_type": "code",
        "colab": {
          "base_uri": "https://localhost:8080/",
          "height": 404
        },
        "outputId": "34512f7e-9afa-49e0-b294-5e3daeea02a4"
      },
      "source": [
        "data_plot=pd.concat([plot_data['AveRooms'],target_data],axis=1)\n",
        "data_plot\n",
        "sns.pairplot(data_plot,kind='reg',diag_kind='kde')"
      ],
      "execution_count": 64,
      "outputs": [
        {
          "output_type": "execute_result",
          "data": {
            "text/plain": [
              "<seaborn.axisgrid.PairGrid at 0x7f131317ee80>"
            ]
          },
          "metadata": {
            "tags": []
          },
          "execution_count": 64
        },
        {
          "output_type": "display_data",
          "data": {
            "image/png": "[encoded data removed]",
            "text/plain": [
              "<Figure size 360x360 with 6 Axes>"
            ]
          },
          "metadata": {
            "tags": [],
            "needs_background": "light"
          }
        }
      ]
    },
    {
      "cell_type": "markdown",
      "metadata": {
        "id": "3zv7vNKbN8IJ",
        "colab_type": "text"
      },
      "source": [
        "Plot fo Average Bedrooms and Target"
      ]
    },
    {
      "cell_type": "code",
      "metadata": {
        "id": "t1v8dwhyN8bD",
        "colab_type": "code",
        "colab": {
          "base_uri": "https://localhost:8080/",
          "height": 404
        },
        "outputId": "b8f75764-a6bc-47d3-dff8-de5cd6fefdb9"
      },
      "source": [
        "data_plot=pd.concat([plot_data['AveBedrms'],target_data],axis=1)\n",
        "data_plot\n",
        "sns.pairplot(data_plot,kind='reg',diag_kind='kde')"
      ],
      "execution_count": 65,
      "outputs": [
        {
          "output_type": "execute_result",
          "data": {
            "text/plain": [
              "<seaborn.axisgrid.PairGrid at 0x7f131317e9b0>"
            ]
          },
          "metadata": {
            "tags": []
          },
          "execution_count": 65
        },
        {
          "output_type": "display_data",
          "data": {
            "image/png": "[encoded data removed]",
            "text/plain": [
              "<Figure size 360x360 with 6 Axes>"
            ]
          },
          "metadata": {
            "tags": [],
            "needs_background": "light"
          }
        }
      ]
    },
    {
      "cell_type": "markdown",
      "metadata": {
        "id": "MpKhfyYNOLAW",
        "colab_type": "text"
      },
      "source": [
        "Plot of Population and Target"
      ]
    },
    {
      "cell_type": "code",
      "metadata": {
        "id": "qMdTIiQ2OLbA",
        "colab_type": "code",
        "colab": {
          "base_uri": "https://localhost:8080/",
          "height": 404
        },
        "outputId": "03ebab2b-a1dd-43ee-b611-7747d1cb2f39"
      },
      "source": [
        "data_plot=pd.concat([plot_data['Population'],target_data],axis=1)\n",
        "data_plot\n",
        "sns.pairplot(data_plot,kind='reg',diag_kind='kde')"
      ],
      "execution_count": 66,
      "outputs": [
        {
          "output_type": "execute_result",
          "data": {
            "text/plain": [
              "<seaborn.axisgrid.PairGrid at 0x7f1312fd0e48>"
            ]
          },
          "metadata": {
            "tags": []
          },
          "execution_count": 66
        },
        {
          "output_type": "display_data",
          "data": {
            "image/png": "[encoded data removed]",
            "text/plain": [
              "<Figure size 360x360 with 6 Axes>"
            ]
          },
          "metadata": {
            "tags": [],
            "needs_background": "light"
          }
        }
      ]
    },
    {
      "cell_type": "markdown",
      "metadata": {
        "id": "FvQnhw_ROVVM",
        "colab_type": "text"
      },
      "source": [
        "Plot of Average Occupancy and Target"
      ]
    },
    {
      "cell_type": "code",
      "metadata": {
        "id": "nvftlPREOVv_",
        "colab_type": "code",
        "colab": {
          "base_uri": "https://localhost:8080/",
          "height": 404
        },
        "outputId": "8e1743bb-88c8-423a-b952-116bb79a05e3"
      },
      "source": [
        "data_plot=pd.concat([plot_data['AveOccup'],target_data],axis=1)\n",
        "data_plot\n",
        "sns.pairplot(data_plot,kind='reg',diag_kind='kde')"
      ],
      "execution_count": 67,
      "outputs": [
        {
          "output_type": "execute_result",
          "data": {
            "text/plain": [
              "<seaborn.axisgrid.PairGrid at 0x7f1313198f98>"
            ]
          },
          "metadata": {
            "tags": []
          },
          "execution_count": 67
        },
        {
          "output_type": "display_data",
          "data": {
            "image/png": "[encoded data removed]",
            "text/plain": [
              "<Figure size 360x360 with 6 Axes>"
            ]
          },
          "metadata": {
            "tags": [],
            "needs_background": "light"
          }
        }
      ]
    },
    {
      "cell_type": "markdown",
      "metadata": {
        "id": "s9t_C67-QJ-e",
        "colab_type": "text"
      },
      "source": [
        "**iii) Model Selection iv)Hyperparameter Tuning**"
      ]
    },
    {
      "cell_type": "markdown",
      "metadata": {
        "id": "ZDtpvTGnUwB6",
        "colab_type": "text"
      },
      "source": [
        "We will use Regression model and we will use Linear Regression to predict the Target Value"
      ]
    },
    {
      "cell_type": "markdown",
      "metadata": {
        "id": "vZCP_pIIXzyO",
        "colab_type": "text"
      },
      "source": [
        "Usage of Multiple Linear Regression"
      ]
    },
    {
      "cell_type": "markdown",
      "metadata": {
        "id": "1FA23n21bkJY",
        "colab_type": "text"
      },
      "source": [
        "**Data Splitting** X and y into training and testing sets using train_set_split from sklearn"
      ]
    },
    {
      "cell_type": "markdown",
      "metadata": {
        "id": "VZiNMPBUjgFp",
        "colab_type": "text"
      },
      "source": [
        "In this code the test_size is 60% of the dataset and the test size is 40% of the dataset"
      ]
    },
    {
      "cell_type": "code",
      "metadata": {
        "id": "nhLVtPtobwzH",
        "colab_type": "code",
        "colab": {}
      },
      "source": [
        "X_train, X_test, y_train, y_test = train_test_split(X, y.ravel(), test_size=0.4, train_size=0.6, random_state=0) "
      ],
      "execution_count": 0,
      "outputs": []
    },
    {
      "cell_type": "markdown",
      "metadata": {
        "id": "uLdL2M_GcWR1",
        "colab_type": "text"
      },
      "source": [
        "Using Linear Regression object from sklearn to Calculate "
      ]
    },
    {
      "cell_type": "code",
      "metadata": {
        "id": "CNeTD8kNcfCg",
        "colab_type": "code",
        "colab": {}
      },
      "source": [
        "reg = linear_model.LinearRegression()\n"
      ],
      "execution_count": 0,
      "outputs": []
    },
    {
      "cell_type": "markdown",
      "metadata": {
        "id": "_TMkrvW6c71D",
        "colab_type": "text"
      },
      "source": [
        "Training the model using the training sets"
      ]
    },
    {
      "cell_type": "code",
      "metadata": {
        "id": "oqkPicCsc_-M",
        "colab_type": "code",
        "colab": {
          "base_uri": "https://localhost:8080/",
          "height": 34
        },
        "outputId": "21c62f0f-f94c-4863-9e9e-c474aa0d3cec"
      },
      "source": [
        "reg.fit(X_train, y_train) "
      ],
      "execution_count": 111,
      "outputs": [
        {
          "output_type": "execute_result",
          "data": {
            "text/plain": [
              "LinearRegression(copy_X=True, fit_intercept=True, n_jobs=None, normalize=False)"
            ]
          },
          "metadata": {
            "tags": []
          },
          "execution_count": 111
        }
      ]
    },
    {
      "cell_type": "markdown",
      "metadata": {
        "id": "7sPed1iGdOS5",
        "colab_type": "text"
      },
      "source": [
        "Showing the regression Coefficients"
      ]
    },
    {
      "cell_type": "code",
      "metadata": {
        "id": "WWgoHJr6dSGQ",
        "colab_type": "code",
        "colab": {
          "base_uri": "https://localhost:8080/",
          "height": 52
        },
        "outputId": "c10230d9-a2e5-4584-e043-390662d6996d"
      },
      "source": [
        "reg.coef_"
      ],
      "execution_count": 112,
      "outputs": [
        {
          "output_type": "execute_result",
          "data": {
            "text/plain": [
              "array([ 1.41278385e-15, -4.44089210e-16, -1.49880108e-15,  5.55111512e-16,\n",
              "        1.04256881e-15, -1.53349555e-15,  1.15392820e+00])"
            ]
          },
          "metadata": {
            "tags": []
          },
          "execution_count": 112
        }
      ]
    },
    {
      "cell_type": "markdown",
      "metadata": {
        "id": "GE4ycd2wdpSM",
        "colab_type": "text"
      },
      "source": [
        "Showing the variance Score"
      ]
    },
    {
      "cell_type": "code",
      "metadata": {
        "id": "Mq0IVS3QdtNY",
        "colab_type": "code",
        "colab": {
          "base_uri": "https://localhost:8080/",
          "height": 34
        },
        "outputId": "a27a6360-757a-41b9-c39b-9d972af3b5d7"
      },
      "source": [
        "reg.score(X_test, y_test)"
      ],
      "execution_count": 113,
      "outputs": [
        {
          "output_type": "execute_result",
          "data": {
            "text/plain": [
              "1.0"
            ]
          },
          "metadata": {
            "tags": []
          },
          "execution_count": 113
        }
      ]
    },
    {
      "cell_type": "markdown",
      "metadata": {
        "id": "8eBykJ6ieofx",
        "colab_type": "text"
      },
      "source": [
        "Ploting the result"
      ]
    },
    {
      "cell_type": "code",
      "metadata": {
        "id": "4XAPrJm-eskI",
        "colab_type": "code",
        "colab": {
          "base_uri": "https://localhost:8080/",
          "height": 303
        },
        "outputId": "89608b2a-6ac8-4f38-9475-02eb9d573453"
      },
      "source": [
        "plt.style.use('fivethirtyeight') \n",
        "plt.scatter(reg.predict(X_train), reg.predict(X_train) - y_train, color = \"red\", s = 20, label = 'Train data') #Error in train data\n",
        "plt.scatter(reg.predict(X_test), reg.predict(X_test) - y_test, color = \"yellow\", s = 10, label = 'Test data') #Error in Test data\n",
        "plt.hlines(y = 0, xmin = 0, xmax = 5, linewidth = 2) #Residual Error Line\n",
        "plt.legend(loc = 'upper right') \n",
        "plt.title(\"Errors\") \n",
        "plt.show() "
      ],
      "execution_count": 114,
      "outputs": [
        {
          "output_type": "display_data",
          "data": {
            "image/png": "[encoded data removed]",
            "text/plain": [
              "<Figure size 432x288 with 1 Axes>"
            ]
          },
          "metadata": {
            "tags": []
          }
        }
      ]
    },
    {
      "cell_type": "markdown",
      "metadata": {
        "id": "n5M2sx4_kaRN",
        "colab_type": "text"
      },
      "source": [
        "**v) Cross Validation** using K-Fold Cross Validation"
      ]
    },
    {
      "cell_type": "markdown",
      "metadata": {
        "id": "qSkKCfM-nsEt",
        "colab_type": "text"
      },
      "source": [
        "We used the RBF kernel of the SVR model, implemented using the sklearn library,\n",
        "\n",
        "We have set the folds to be 10\n",
        "\n",
        "The error metric computed using the best_svr.score() function is the r2 score. Each iteration of F-Fold CV provides an r2 score. \n",
        "\n",
        "We append each score to a list and get the mean value in order to determine the overall accuracy of the model."
      ]
    },
    {
      "cell_type": "code",
      "metadata": {
        "id": "ecnjfgmVgyKq",
        "colab_type": "code",
        "colab": {
          "base_uri": "https://localhost:8080/",
          "height": 940
        },
        "outputId": "55fa74c9-af79-421c-deb6-b0974f4075c9"
      },
      "source": [
        "values = []\n",
        "\n",
        "best_svr = SVR(kernel='rbf')\n",
        "\n",
        "cv = KFold(n_splits=10, random_state=42, shuffle=False)\n",
        "\n",
        "for train_index, test_index in cv.split(X):\n",
        "    print(\"Train Index: \", train_index, \"\\n\")\n",
        "    print(\"Test Index: \", test_index)\n",
        "    X_train, X_test, y_train, y_test = X[train_index], X[test_index], y[train_index], y[test_index]\n",
        "\n",
        "    # Specifying the Train data set\n",
        "    best_svr.fit(X_train, y_train)\n",
        "    values.append(best_svr.score(X_test, y_test.ravel()))"
      ],
      "execution_count": 124,
      "outputs": [
        {
          "output_type": "stream",
          "text": [
            "/usr/local/lib/python3.6/dist-packages/sklearn/model_selection/_split.py:296: FutureWarning: Setting a random_state has no effect since shuffle is False. This will raise an error in 0.24. You should leave random_state to its default (None), or set shuffle=True.\n",
            "  FutureWarning\n",
            "/usr/local/lib/python3.6/dist-packages/sklearn/utils/validation.py:760: DataConversionWarning: A column-vector y was passed when a 1d array was expected. Please change the shape of y to (n_samples, ), for example using ravel().\n",
            "  y = column_or_1d(y, warn=True)\n"
          ],
          "name": "stderr"
        },
        {
          "output_type": "stream",
          "text": [
            "Train Index:  [ 2064  2065  2066 ... 20637 20638 20639] \n",
            "\n",
            "Test Index:  [   0    1    2 ... 2061 2062 2063]\n",
            "Train Index:  [    0     1     2 ... 20637 20638 20639] \n",
            "\n",
            "Test Index:  [2064 2065 2066 ... 4125 4126 4127]\n"
          ],
          "name": "stdout"
        },
        {
          "output_type": "stream",
          "text": [
            "/usr/local/lib/python3.6/dist-packages/sklearn/utils/validation.py:760: DataConversionWarning: A column-vector y was passed when a 1d array was expected. Please change the shape of y to (n_samples, ), for example using ravel().\n",
            "  y = column_or_1d(y, warn=True)\n"
          ],
          "name": "stderr"
        },
        {
          "output_type": "stream",
          "text": [
            "Train Index:  [    0     1     2 ... 20637 20638 20639] \n",
            "\n",
            "Test Index:  [4128 4129 4130 ... 6189 6190 6191]\n"
          ],
          "name": "stdout"
        },
        {
          "output_type": "stream",
          "text": [
            "/usr/local/lib/python3.6/dist-packages/sklearn/utils/validation.py:760: DataConversionWarning: A column-vector y was passed when a 1d array was expected. Please change the shape of y to (n_samples, ), for example using ravel().\n",
            "  y = column_or_1d(y, warn=True)\n"
          ],
          "name": "stderr"
        },
        {
          "output_type": "stream",
          "text": [
            "Train Index:  [    0     1     2 ... 20637 20638 20639] \n",
            "\n",
            "Test Index:  [6192 6193 6194 ... 8253 8254 8255]\n"
          ],
          "name": "stdout"
        },
        {
          "output_type": "stream",
          "text": [
            "/usr/local/lib/python3.6/dist-packages/sklearn/utils/validation.py:760: DataConversionWarning: A column-vector y was passed when a 1d array was expected. Please change the shape of y to (n_samples, ), for example using ravel().\n",
            "  y = column_or_1d(y, warn=True)\n"
          ],
          "name": "stderr"
        },
        {
          "output_type": "stream",
          "text": [
            "Train Index:  [    0     1     2 ... 20637 20638 20639] \n",
            "\n",
            "Test Index:  [ 8256  8257  8258 ... 10317 10318 10319]\n"
          ],
          "name": "stdout"
        },
        {
          "output_type": "stream",
          "text": [
            "/usr/local/lib/python3.6/dist-packages/sklearn/utils/validation.py:760: DataConversionWarning: A column-vector y was passed when a 1d array was expected. Please change the shape of y to (n_samples, ), for example using ravel().\n",
            "  y = column_or_1d(y, warn=True)\n"
          ],
          "name": "stderr"
        },
        {
          "output_type": "stream",
          "text": [
            "Train Index:  [    0     1     2 ... 20637 20638 20639] \n",
            "\n",
            "Test Index:  [10320 10321 10322 ... 12381 12382 12383]\n"
          ],
          "name": "stdout"
        },
        {
          "output_type": "stream",
          "text": [
            "/usr/local/lib/python3.6/dist-packages/sklearn/utils/validation.py:760: DataConversionWarning: A column-vector y was passed when a 1d array was expected. Please change the shape of y to (n_samples, ), for example using ravel().\n",
            "  y = column_or_1d(y, warn=True)\n"
          ],
          "name": "stderr"
        },
        {
          "output_type": "stream",
          "text": [
            "Train Index:  [    0     1     2 ... 20637 20638 20639] \n",
            "\n",
            "Test Index:  [12384 12385 12386 ... 14445 14446 14447]\n"
          ],
          "name": "stdout"
        },
        {
          "output_type": "stream",
          "text": [
            "/usr/local/lib/python3.6/dist-packages/sklearn/utils/validation.py:760: DataConversionWarning: A column-vector y was passed when a 1d array was expected. Please change the shape of y to (n_samples, ), for example using ravel().\n",
            "  y = column_or_1d(y, warn=True)\n"
          ],
          "name": "stderr"
        },
        {
          "output_type": "stream",
          "text": [
            "Train Index:  [    0     1     2 ... 20637 20638 20639] \n",
            "\n",
            "Test Index:  [14448 14449 14450 ... 16509 16510 16511]\n"
          ],
          "name": "stdout"
        },
        {
          "output_type": "stream",
          "text": [
            "/usr/local/lib/python3.6/dist-packages/sklearn/utils/validation.py:760: DataConversionWarning: A column-vector y was passed when a 1d array was expected. Please change the shape of y to (n_samples, ), for example using ravel().\n",
            "  y = column_or_1d(y, warn=True)\n"
          ],
          "name": "stderr"
        },
        {
          "output_type": "stream",
          "text": [
            "Train Index:  [    0     1     2 ... 20637 20638 20639] \n",
            "\n",
            "Test Index:  [16512 16513 16514 ... 18573 18574 18575]\n"
          ],
          "name": "stdout"
        },
        {
          "output_type": "stream",
          "text": [
            "/usr/local/lib/python3.6/dist-packages/sklearn/utils/validation.py:760: DataConversionWarning: A column-vector y was passed when a 1d array was expected. Please change the shape of y to (n_samples, ), for example using ravel().\n",
            "  y = column_or_1d(y, warn=True)\n"
          ],
          "name": "stderr"
        },
        {
          "output_type": "stream",
          "text": [
            "Train Index:  [    0     1     2 ... 18573 18574 18575] \n",
            "\n",
            "Test Index:  [18576 18577 18578 ... 20637 20638 20639]\n"
          ],
          "name": "stdout"
        },
        {
          "output_type": "stream",
          "text": [
            "/usr/local/lib/python3.6/dist-packages/sklearn/utils/validation.py:760: DataConversionWarning: A column-vector y was passed when a 1d array was expected. Please change the shape of y to (n_samples, ), for example using ravel().\n",
            "  y = column_or_1d(y, warn=True)\n"
          ],
          "name": "stderr"
        }
      ]
    },
    {
      "cell_type": "markdown",
      "metadata": {
        "id": "lXQUQqdLpCs-",
        "colab_type": "text"
      },
      "source": [
        "Showing the accuracy of the model we calculate the mean of the values"
      ]
    },
    {
      "cell_type": "code",
      "metadata": {
        "id": "VJTSrhX-pB56",
        "colab_type": "code",
        "colab": {
          "base_uri": "https://localhost:8080/",
          "height": 34
        },
        "outputId": "9463baae-a74e-4dba-ee44-ba51a6404aad"
      },
      "source": [
        "print(np.mean(values))"
      ],
      "execution_count": 125,
      "outputs": [
        {
          "output_type": "stream",
          "text": [
            "0.9965626243331132\n"
          ],
          "name": "stdout"
        }
      ]
    },
    {
      "cell_type": "markdown",
      "metadata": {
        "id": "rz9yA4IepkVF",
        "colab_type": "text"
      },
      "source": [
        "**What happens when we increase the value of K?**\n",
        "\n",
        "We can use cross_val_score from sklearn to implement the same method"
      ]
    },
    {
      "cell_type": "code",
      "metadata": {
        "id": "xygPRFmNp9xC",
        "colab_type": "code",
        "colab": {
          "base_uri": "https://localhost:8080/",
          "height": 34
        },
        "outputId": "86dba052-ce8a-4e3b-ceee-f245f6adb10a"
      },
      "source": [
        "value2=cross_val_score(best_svr, X, y.ravel(), cv=200)# Reduce cv for faster computation time\n",
        "print(np.mean(value2))"
      ],
      "execution_count": 119,
      "outputs": [
        {
          "output_type": "stream",
          "text": [
            "0.9874819063669491\n"
          ],
          "name": "stdout"
        }
      ]
    },
    {
      "cell_type": "markdown",
      "metadata": {
        "id": "PHDTp2L0ruw_",
        "colab_type": "text"
      },
      "source": [
        "**CONCLUSION**\n",
        "\n",
        "When we increase the value of K the level of accuracy seems to reduce"
      ]
    }
  ]
}