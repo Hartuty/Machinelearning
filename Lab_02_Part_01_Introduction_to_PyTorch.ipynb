{
  "nbformat": 4,
  "nbformat_minor": 0,
  "metadata": {
    "kernelspec": {
      "display_name": "Python [conda env:ml]",
      "language": "python",
      "name": "conda-env-ml-py"
    },
    "language_info": {
      "codemirror_mode": {
        "name": "ipython",
        "version": 3
      },
      "file_extension": ".py",
      "mimetype": "text/x-python",
      "name": "python",
      "nbconvert_exporter": "python",
      "pygments_lexer": "ipython3",
      "version": "3.6.10"
    },
    "colab": {
      "name": "Lab  02 Part 01 - Introduction to PyTorch.ipynb",
      "provenance": [],
      "include_colab_link": true
    }
  },
  "cells": [
    {
      "cell_type": "markdown",
      "metadata": {
        "id": "view-in-github",
        "colab_type": "text"
      },
      "source": [
        "<a href=\"https://colab.research.google.com/github/Hartuty/Machinelearning/blob/master/Lab_02_Part_01_Introduction_to_PyTorch.ipynb\" target=\"_parent\"><img src=\"https://colab.research.google.com/assets/colab-badge.svg\" alt=\"Open In Colab\"/></a>"
      ]
    },
    {
      "cell_type": "markdown",
      "metadata": {
        "id": "jTX08KhDlmt6",
        "colab_type": "text"
      },
      "source": [
        "\n",
        "What is PyTorch?\n",
        "================\n",
        "\n",
        "It’s a Python-based scientific computing package targeted at two sets of\n",
        "audiences:\n",
        "\n",
        "-  A replacement for NumPy to use the power of GPUs\n",
        "-  a deep learning research platform that provides maximum flexibility\n",
        "   and speed\n",
        "\n",
        "Getting Started\n",
        "---------------\n",
        "\n",
        "Tensors\n",
        "^^^^^^^\n",
        "\n",
        "Tensors are similar to NumPy’s ndarrays, with the addition being that\n",
        "Tensors can also be used on a GPU to accelerate computing.\n",
        "\n"
      ]
    },
    {
      "cell_type": "code",
      "metadata": {
        "id": "p_F9vgajlmt8",
        "colab_type": "code",
        "colab": {}
      },
      "source": [
        "import torch\n",
        "import numpy as np"
      ],
      "execution_count": null,
      "outputs": []
    },
    {
      "cell_type": "markdown",
      "metadata": {
        "id": "vjZTBZz1lmuC",
        "colab_type": "text"
      },
      "source": [
        "<div class=\"alert alert-info\"><h4>Note</h4><p>An uninitialized matrix is declared,\n",
        "    but does not contain definite known\n",
        "    values before it is used. When an\n",
        "    uninitialized matrix is created,\n",
        "    whatever values were in the allocated\n",
        "    memory at the time will appear as the initial values.</p></div>\n",
        "\n"
      ]
    },
    {
      "cell_type": "markdown",
      "metadata": {
        "id": "ZmUzrBbdlmuD",
        "colab_type": "text"
      },
      "source": [
        "Construct a 5x3 matrix, uninitialized:\n",
        "\n"
      ]
    },
    {
      "cell_type": "code",
      "metadata": {
        "id": "nHqP7VoulmuD",
        "colab_type": "code",
        "colab": {},
        "outputId": "0a3b64e1-4e90-4de4-d199-2d46a75e0f51"
      },
      "source": [
        "x = torch.empty(5, 3)\n",
        "print(x)"
      ],
      "execution_count": null,
      "outputs": [
        {
          "output_type": "stream",
          "text": [
            "tensor([[1.0469e-38, 9.3674e-39, 9.9184e-39],\n",
            "        [8.7245e-39, 9.2755e-39, 8.9082e-39],\n",
            "        [9.9184e-39, 8.4490e-39, 9.6429e-39],\n",
            "        [1.0653e-38, 1.0469e-38, 4.2246e-39],\n",
            "        [1.0378e-38, 9.6429e-39, 9.2755e-39]])\n"
          ],
          "name": "stdout"
        }
      ]
    },
    {
      "cell_type": "markdown",
      "metadata": {
        "id": "aOwtuC7glmuL",
        "colab_type": "text"
      },
      "source": [
        "Construct a randomly initialized matrix:\n",
        "\n"
      ]
    },
    {
      "cell_type": "code",
      "metadata": {
        "id": "OodHUZE5lmuM",
        "colab_type": "code",
        "colab": {},
        "outputId": "d388b969-bf7c-45a9-9068-fb32db6026eb"
      },
      "source": [
        "x = torch.rand(5, 3)\n",
        "print(x)"
      ],
      "execution_count": null,
      "outputs": [
        {
          "output_type": "stream",
          "text": [
            "tensor([[0.3390, 0.1685, 0.9454],\n",
            "        [0.4407, 0.2726, 0.3800],\n",
            "        [0.2047, 0.7220, 0.3646],\n",
            "        [0.7110, 0.9270, 0.8676],\n",
            "        [0.1317, 0.4857, 0.6318]])\n"
          ],
          "name": "stdout"
        }
      ]
    },
    {
      "cell_type": "markdown",
      "metadata": {
        "id": "nZ4v85bMlmuR",
        "colab_type": "text"
      },
      "source": [
        "Construct a matrix filled zeros and of dtype long:\n",
        "\n"
      ]
    },
    {
      "cell_type": "code",
      "metadata": {
        "id": "fIoetXJnlmuS",
        "colab_type": "code",
        "colab": {},
        "outputId": "0c98bd55-9197-467e-9130-dfad00829bfd"
      },
      "source": [
        "x = torch.zeros(5, 3, dtype=torch.long)\n",
        "print(x)"
      ],
      "execution_count": null,
      "outputs": [
        {
          "output_type": "stream",
          "text": [
            "tensor([[0, 0, 0],\n",
            "        [0, 0, 0],\n",
            "        [0, 0, 0],\n",
            "        [0, 0, 0],\n",
            "        [0, 0, 0]])\n"
          ],
          "name": "stdout"
        }
      ]
    },
    {
      "cell_type": "markdown",
      "metadata": {
        "id": "xP5thgFYlmuX",
        "colab_type": "text"
      },
      "source": [
        "Construct a tensor directly from data:\n",
        "\n"
      ]
    },
    {
      "cell_type": "code",
      "metadata": {
        "id": "2coqWqt6lmuX",
        "colab_type": "code",
        "colab": {},
        "outputId": "b1534b6e-a0a2-4c8a-ff49-2a5bf6bbf9a1"
      },
      "source": [
        "x = torch.tensor([5.5, 3])\n",
        "print(x)"
      ],
      "execution_count": null,
      "outputs": [
        {
          "output_type": "stream",
          "text": [
            "tensor([5.5000, 3.0000])\n"
          ],
          "name": "stdout"
        }
      ]
    },
    {
      "cell_type": "code",
      "metadata": {
        "id": "1DlbHg81lmuc",
        "colab_type": "code",
        "colab": {},
        "outputId": "212a093d-d54d-4e73-8806-635a019512e4"
      },
      "source": [
        "x.shape"
      ],
      "execution_count": null,
      "outputs": [
        {
          "output_type": "execute_result",
          "data": {
            "text/plain": [
              "torch.Size([2])"
            ]
          },
          "metadata": {
            "tags": []
          },
          "execution_count": 24
        }
      ]
    },
    {
      "cell_type": "markdown",
      "metadata": {
        "id": "fpWwbnzDlmuh",
        "colab_type": "text"
      },
      "source": [
        "or create a tensor based on an existing tensor. These methods\n",
        "will reuse properties of the input tensor, e.g. dtype, unless\n",
        "new values are provided by user\n",
        "\n"
      ]
    },
    {
      "cell_type": "code",
      "metadata": {
        "id": "r8Os7DQulmui",
        "colab_type": "code",
        "colab": {},
        "outputId": "94e64ea3-5b96-4767-e6a2-1622827965ac"
      },
      "source": [
        "x = x.new_ones(5, 3, dtype=torch.double)      # new_* methods take in sizes\n",
        "print(x)                                   # result has the same size"
      ],
      "execution_count": null,
      "outputs": [
        {
          "output_type": "stream",
          "text": [
            "tensor([[1., 1., 1.],\n",
            "        [1., 1., 1.],\n",
            "        [1., 1., 1.],\n",
            "        [1., 1., 1.],\n",
            "        [1., 1., 1.]], dtype=torch.float64)\n"
          ],
          "name": "stdout"
        }
      ]
    },
    {
      "cell_type": "code",
      "metadata": {
        "id": "c5qxsYqrlmun",
        "colab_type": "code",
        "colab": {},
        "outputId": "a9cf8e3a-97b0-4fef-e435-c24da3a36002"
      },
      "source": [
        "x = torch.randn_like(x, dtype=torch.float)    # override dtype!\n",
        "print(x)  "
      ],
      "execution_count": null,
      "outputs": [
        {
          "output_type": "stream",
          "text": [
            "tensor([[-5.1098e-01,  1.9101e+00, -5.3828e-01],\n",
            "        [ 2.8741e-01, -2.0482e-01,  2.9420e-01],\n",
            "        [-7.7881e-01,  1.0883e+00,  8.9995e-01],\n",
            "        [ 1.7086e+00, -1.2016e+00,  3.1006e-04],\n",
            "        [-9.1062e-02, -5.4713e-01, -1.6330e+00]])\n"
          ],
          "name": "stdout"
        }
      ]
    },
    {
      "cell_type": "markdown",
      "metadata": {
        "id": "RTkduksNlmus",
        "colab_type": "text"
      },
      "source": [
        "Get its size:\n",
        "\n"
      ]
    },
    {
      "cell_type": "code",
      "metadata": {
        "id": "WW9PAXzQlmus",
        "colab_type": "code",
        "colab": {},
        "outputId": "5062f498-6cdd-43ca-f57a-8f8a6c795463"
      },
      "source": [
        "print(x.size())"
      ],
      "execution_count": null,
      "outputs": [
        {
          "output_type": "stream",
          "text": [
            "torch.Size([5, 3])\n"
          ],
          "name": "stdout"
        }
      ]
    },
    {
      "cell_type": "markdown",
      "metadata": {
        "id": "ks4TLQRVlmuv",
        "colab_type": "text"
      },
      "source": [
        "# Arithmetic Ops"
      ]
    },
    {
      "cell_type": "code",
      "metadata": {
        "id": "S7GhjoW0lmuw",
        "colab_type": "code",
        "colab": {}
      },
      "source": [
        "x1 = torch.ones(3,3)\n",
        "x2 = torch.ones_like(x1)"
      ],
      "execution_count": null,
      "outputs": []
    },
    {
      "cell_type": "code",
      "metadata": {
        "id": "VdWywYLWlmuz",
        "colab_type": "code",
        "colab": {},
        "outputId": "3e6dc35f-2197-4559-a8d5-3a9d0e9c578d"
      },
      "source": [
        "x1+x2"
      ],
      "execution_count": null,
      "outputs": [
        {
          "output_type": "execute_result",
          "data": {
            "text/plain": [
              "tensor([[2., 2., 2.],\n",
              "        [2., 2., 2.],\n",
              "        [2., 2., 2.]])"
            ]
          },
          "metadata": {
            "tags": []
          },
          "execution_count": 37
        }
      ]
    },
    {
      "cell_type": "markdown",
      "metadata": {
        "id": "G0QdEfpPlmu2",
        "colab_type": "text"
      },
      "source": [
        "\n",
        "Addition: syntax 1\n",
        "\n"
      ]
    },
    {
      "cell_type": "code",
      "metadata": {
        "id": "hSSLb7O9lmu3",
        "colab_type": "code",
        "colab": {}
      },
      "source": [
        "y = torch.randint(1,4, (2,2))\n",
        "x = torch.randint(1,4,(2,2))"
      ],
      "execution_count": null,
      "outputs": []
    },
    {
      "cell_type": "code",
      "metadata": {
        "id": "D9t8RSiJlmu6",
        "colab_type": "code",
        "colab": {},
        "outputId": "78f9f679-433c-48e5-ab68-5dd2395a3fd9"
      },
      "source": [
        "y"
      ],
      "execution_count": null,
      "outputs": [
        {
          "output_type": "execute_result",
          "data": {
            "text/plain": [
              "tensor([[3, 1],\n",
              "        [2, 3]])"
            ]
          },
          "metadata": {
            "tags": []
          },
          "execution_count": 3
        }
      ]
    },
    {
      "cell_type": "code",
      "metadata": {
        "id": "MBIoCip9lmu9",
        "colab_type": "code",
        "colab": {},
        "outputId": "bae86e2e-8a08-49ec-d065-1f0e9779274f"
      },
      "source": [
        "x"
      ],
      "execution_count": null,
      "outputs": [
        {
          "output_type": "execute_result",
          "data": {
            "text/plain": [
              "tensor([[2, 2],\n",
              "        [3, 2]])"
            ]
          },
          "metadata": {
            "tags": []
          },
          "execution_count": 4
        }
      ]
    },
    {
      "cell_type": "code",
      "metadata": {
        "id": "whgN1FtZlmvA",
        "colab_type": "code",
        "colab": {},
        "outputId": "21416888-fb8e-4408-dd2a-d5b1ee34816d"
      },
      "source": [
        "print(x+y)"
      ],
      "execution_count": null,
      "outputs": [
        {
          "output_type": "stream",
          "text": [
            "tensor([[5, 3],\n",
            "        [5, 5]])\n"
          ],
          "name": "stdout"
        }
      ]
    },
    {
      "cell_type": "code",
      "metadata": {
        "id": "bQn89MSJlmvD",
        "colab_type": "code",
        "colab": {},
        "outputId": "e1a91312-ec4b-44b3-a876-6780ea3d0fc1"
      },
      "source": [
        "print(x-y)"
      ],
      "execution_count": null,
      "outputs": [
        {
          "output_type": "stream",
          "text": [
            "tensor([[-1,  1],\n",
            "        [ 1, -1]])\n"
          ],
          "name": "stdout"
        }
      ]
    },
    {
      "cell_type": "code",
      "metadata": {
        "id": "mPLveX1WlmvL",
        "colab_type": "code",
        "colab": {},
        "outputId": "6ee6e251-00bb-4c31-8ed9-fdfdceb380e5"
      },
      "source": [
        "print(x.matmul(y))"
      ],
      "execution_count": null,
      "outputs": [
        {
          "output_type": "stream",
          "text": [
            "tensor([[10,  8],\n",
            "        [13,  9]])\n"
          ],
          "name": "stdout"
        }
      ]
    },
    {
      "cell_type": "code",
      "metadata": {
        "id": "wlKDxPBGlmvO",
        "colab_type": "code",
        "colab": {},
        "outputId": "49dcc588-3884-42f9-d182-86116e984640"
      },
      "source": [
        "print(torch.add(x, y))"
      ],
      "execution_count": null,
      "outputs": [
        {
          "output_type": "stream",
          "text": [
            "tensor([[5, 3],\n",
            "        [5, 5]])\n"
          ],
          "name": "stdout"
        }
      ]
    },
    {
      "cell_type": "markdown",
      "metadata": {
        "id": "04K31xpPlmvS",
        "colab_type": "text"
      },
      "source": [
        "Addition: providing an output tensor as argument\n",
        "\n"
      ]
    },
    {
      "cell_type": "code",
      "metadata": {
        "id": "mbXz5rT_lmvT",
        "colab_type": "code",
        "colab": {},
        "outputId": "e8de5e3b-c9b0-4b55-f98e-e71ba551be61"
      },
      "source": [
        "result = torch.empty(5, 3)\n",
        "torch.add(x, y, out=result)\n",
        "print(result)"
      ],
      "execution_count": null,
      "outputs": [
        {
          "output_type": "stream",
          "text": [
            "tensor([[5., 3.],\n",
            "        [5., 5.]])\n"
          ],
          "name": "stdout"
        }
      ]
    },
    {
      "cell_type": "markdown",
      "metadata": {
        "id": "Wzr3DACclmvW",
        "colab_type": "text"
      },
      "source": [
        "Addition: in-place\n",
        "\n"
      ]
    },
    {
      "cell_type": "code",
      "metadata": {
        "id": "WrYyVcFklmvW",
        "colab_type": "code",
        "colab": {},
        "outputId": "fb04c7c8-505c-4e55-c1c1-1baaba8575a0"
      },
      "source": [
        "# adds x to y\n",
        "y.add_(x)\n",
        "print(y)"
      ],
      "execution_count": null,
      "outputs": [
        {
          "output_type": "stream",
          "text": [
            "tensor([[5, 3],\n",
            "        [5, 5]])\n"
          ],
          "name": "stdout"
        }
      ]
    },
    {
      "cell_type": "code",
      "metadata": {
        "id": "X1tYBf7RlmvZ",
        "colab_type": "code",
        "colab": {},
        "outputId": "0fdc16ac-b179-4020-889d-acdda4c2de35"
      },
      "source": [
        "y"
      ],
      "execution_count": null,
      "outputs": [
        {
          "output_type": "execute_result",
          "data": {
            "text/plain": [
              "tensor([[5, 3],\n",
              "        [5, 5]])"
            ]
          },
          "metadata": {
            "tags": []
          },
          "execution_count": 11
        }
      ]
    },
    {
      "cell_type": "markdown",
      "metadata": {
        "id": "ucbABqeHlmvc",
        "colab_type": "text"
      },
      "source": [
        "<div class=\"alert alert-info\"><h4>Note</h4><p>Any operation that mutates a tensor in-place is post-fixed with an ``_``.\n",
        "    For example: ``x.copy_(y)``, ``x.t_()``, will change ``x``.</p></div>\n",
        "\n",
        "You can use standard NumPy-like indexing with all bells and whistles!\n",
        "\n"
      ]
    },
    {
      "cell_type": "markdown",
      "metadata": {
        "id": "XKwr_3FDlmvd",
        "colab_type": "text"
      },
      "source": [
        "# Slicing"
      ]
    },
    {
      "cell_type": "code",
      "metadata": {
        "id": "qfFfPSwElmvd",
        "colab_type": "code",
        "colab": {}
      },
      "source": [
        "temp = torch.rand(4,4)"
      ],
      "execution_count": null,
      "outputs": []
    },
    {
      "cell_type": "code",
      "metadata": {
        "id": "ZkDzkPzZlmvg",
        "colab_type": "code",
        "colab": {},
        "outputId": "6a27569c-65b0-4489-b4c2-ee27df85c9ae"
      },
      "source": [
        "temp"
      ],
      "execution_count": null,
      "outputs": [
        {
          "output_type": "execute_result",
          "data": {
            "text/plain": [
              "tensor([[0.9133, 0.0958, 0.8372, 0.5992],\n",
              "        [0.4477, 0.2830, 0.3671, 0.7826],\n",
              "        [0.4283, 0.0112, 0.8482, 0.6084],\n",
              "        [0.3286, 0.2693, 0.3833, 0.3434]])"
            ]
          },
          "metadata": {
            "tags": []
          },
          "execution_count": 14
        }
      ]
    },
    {
      "cell_type": "code",
      "metadata": {
        "id": "5Q9OIxBElmvl",
        "colab_type": "code",
        "colab": {},
        "outputId": "5248ffe2-6513-4c05-c6e7-60f11f161cb6"
      },
      "source": [
        "temp[0]"
      ],
      "execution_count": null,
      "outputs": [
        {
          "output_type": "execute_result",
          "data": {
            "text/plain": [
              "tensor([0.9133, 0.0958, 0.8372, 0.5992])"
            ]
          },
          "metadata": {
            "tags": []
          },
          "execution_count": 15
        }
      ]
    },
    {
      "cell_type": "code",
      "metadata": {
        "id": "p0wqWtwHlmvo",
        "colab_type": "code",
        "colab": {},
        "outputId": "57d8fdfb-ff85-4fc2-bf9b-67a83f08c028"
      },
      "source": [
        "temp[-1]"
      ],
      "execution_count": null,
      "outputs": [
        {
          "output_type": "execute_result",
          "data": {
            "text/plain": [
              "tensor([0.3286, 0.2693, 0.3833, 0.3434])"
            ]
          },
          "metadata": {
            "tags": []
          },
          "execution_count": 16
        }
      ]
    },
    {
      "cell_type": "code",
      "metadata": {
        "id": "iQh0Sgphlmvr",
        "colab_type": "code",
        "colab": {},
        "outputId": "f70b590e-94dd-40a9-e7f6-1150b040dde2"
      },
      "source": [
        "temp[1,1]"
      ],
      "execution_count": null,
      "outputs": [
        {
          "output_type": "execute_result",
          "data": {
            "text/plain": [
              "tensor(0.2830)"
            ]
          },
          "metadata": {
            "tags": []
          },
          "execution_count": 17
        }
      ]
    },
    {
      "cell_type": "code",
      "metadata": {
        "id": "yEAowzkflmvt",
        "colab_type": "code",
        "colab": {}
      },
      "source": [
        "X, y = temp[:,:-1],temp[:,-1:],"
      ],
      "execution_count": null,
      "outputs": []
    },
    {
      "cell_type": "code",
      "metadata": {
        "id": "M5-DTaL-lmvw",
        "colab_type": "code",
        "colab": {},
        "outputId": "b8278cb1-f381-4423-f0d2-5d98334d29a7"
      },
      "source": [
        "y"
      ],
      "execution_count": null,
      "outputs": [
        {
          "output_type": "execute_result",
          "data": {
            "text/plain": [
              "tensor([[0.5992],\n",
              "        [0.7826],\n",
              "        [0.6084],\n",
              "        [0.3434]])"
            ]
          },
          "metadata": {
            "tags": []
          },
          "execution_count": 19
        }
      ]
    },
    {
      "cell_type": "code",
      "metadata": {
        "id": "fqUpOSOylmvz",
        "colab_type": "code",
        "colab": {},
        "outputId": "70204dc0-a208-4592-8a2d-efdd9b6c12e1"
      },
      "source": [
        "temp[0:1,1:]"
      ],
      "execution_count": null,
      "outputs": [
        {
          "output_type": "execute_result",
          "data": {
            "text/plain": [
              "tensor([[0.0958, 0.8372, 0.5992]])"
            ]
          },
          "metadata": {
            "tags": []
          },
          "execution_count": 20
        }
      ]
    },
    {
      "cell_type": "markdown",
      "metadata": {
        "id": "jlOp-q01lmv2",
        "colab_type": "text"
      },
      "source": [
        "# Reshaping Tensors"
      ]
    },
    {
      "cell_type": "markdown",
      "metadata": {
        "id": "C2-4LU9Jlmv2",
        "colab_type": "text"
      },
      "source": [
        "Resizing: If you want to resize/reshape tensor, you can use ``torch.view``:\n",
        "\n"
      ]
    },
    {
      "cell_type": "code",
      "metadata": {
        "id": "iBbSslvhlmv3",
        "colab_type": "code",
        "colab": {},
        "outputId": "e408dd30-9dc9-4737-a7b0-01552d7b131a"
      },
      "source": [
        "x = torch.randn(4, 4)\n",
        "print(x.size())"
      ],
      "execution_count": null,
      "outputs": [
        {
          "output_type": "stream",
          "text": [
            "torch.Size([4, 4])\n"
          ],
          "name": "stdout"
        }
      ]
    },
    {
      "cell_type": "code",
      "metadata": {
        "id": "gScJsW2Qlmv6",
        "colab_type": "code",
        "colab": {},
        "outputId": "5785defb-b570-412a-fce4-89b022c119c2"
      },
      "source": [
        "y = x.view(16)\n",
        "print(y.size())"
      ],
      "execution_count": null,
      "outputs": [
        {
          "output_type": "stream",
          "text": [
            "torch.Size([16])\n"
          ],
          "name": "stdout"
        }
      ]
    },
    {
      "cell_type": "code",
      "metadata": {
        "id": "93cf293nlmv8",
        "colab_type": "code",
        "colab": {},
        "outputId": "09ea06ba-fdde-4da8-bc3d-0754c3636482"
      },
      "source": [
        "z = x.view(-1, 8)  # the size -1 is inferred from other dimensions\n",
        "print(z.size())"
      ],
      "execution_count": null,
      "outputs": [
        {
          "output_type": "stream",
          "text": [
            "torch.Size([2, 8])\n"
          ],
          "name": "stdout"
        }
      ]
    },
    {
      "cell_type": "markdown",
      "metadata": {
        "id": "_1m83b9tlmv_",
        "colab_type": "text"
      },
      "source": [
        "If you have a one element tensor, use ``.item()`` to get the value as a\n",
        "Python number\n",
        "\n"
      ]
    },
    {
      "cell_type": "code",
      "metadata": {
        "id": "bHUuvLhblmv_",
        "colab_type": "code",
        "colab": {},
        "outputId": "2eac8934-1d19-460b-b366-fafd3942b388"
      },
      "source": [
        "x = torch.randn(1)\n",
        "print(x)\n",
        "print(x.item())"
      ],
      "execution_count": null,
      "outputs": [
        {
          "output_type": "stream",
          "text": [
            "tensor([-2.4534])\n",
            "-2.453388214111328\n"
          ],
          "name": "stdout"
        }
      ]
    },
    {
      "cell_type": "markdown",
      "metadata": {
        "id": "HTp0xqLIlmwF",
        "colab_type": "text"
      },
      "source": [
        "NumPy Bridge\n",
        "------------\n",
        "\n",
        "Converting a Torch Tensor to a NumPy array and vice versa is a breeze.\n",
        "\n",
        "The Torch Tensor and NumPy array will share their underlying memory\n",
        "locations (if the Torch Tensor is on CPU), and changing one will change\n",
        "the other.\n",
        "\n",
        "Converting a Torch Tensor to a NumPy Array\n",
        "^^^^^^^^^^^^^^^^^^^^^^^^^^^^^^^^^^^^^^^^^^\n",
        "\n"
      ]
    },
    {
      "cell_type": "code",
      "metadata": {
        "id": "Gy3VogAJlmwF",
        "colab_type": "code",
        "colab": {},
        "outputId": "c3dfab0e-1458-41a4-9ad6-5e8f0050f897"
      },
      "source": [
        "a = torch.ones(5)\n",
        "print(a)"
      ],
      "execution_count": null,
      "outputs": [
        {
          "output_type": "stream",
          "text": [
            "tensor([1., 1., 1., 1., 1.])\n"
          ],
          "name": "stdout"
        }
      ]
    },
    {
      "cell_type": "code",
      "metadata": {
        "id": "83BpZhRClmwJ",
        "colab_type": "code",
        "colab": {},
        "outputId": "d14450ac-6dc2-4f98-c88c-f9aac1f79b50"
      },
      "source": [
        "print(type(a))"
      ],
      "execution_count": null,
      "outputs": [
        {
          "output_type": "stream",
          "text": [
            "<class 'torch.Tensor'>\n"
          ],
          "name": "stdout"
        }
      ]
    },
    {
      "cell_type": "code",
      "metadata": {
        "id": "-LZ5hz4slmwM",
        "colab_type": "code",
        "colab": {},
        "outputId": "5d64b196-e7f0-44e0-f7a4-df53080ab9a2"
      },
      "source": [
        "b = a.numpy()\n",
        "print(b)"
      ],
      "execution_count": null,
      "outputs": [
        {
          "output_type": "stream",
          "text": [
            "[1. 1. 1. 1. 1.]\n"
          ],
          "name": "stdout"
        }
      ]
    },
    {
      "cell_type": "code",
      "metadata": {
        "id": "jTqMUPKXlmwP",
        "colab_type": "code",
        "colab": {},
        "outputId": "56e1b937-f51d-4647-995d-01927881e690"
      },
      "source": [
        "print(type(b))"
      ],
      "execution_count": null,
      "outputs": [
        {
          "output_type": "stream",
          "text": [
            "<class 'numpy.ndarray'>\n"
          ],
          "name": "stdout"
        }
      ]
    },
    {
      "cell_type": "markdown",
      "metadata": {
        "id": "bLWxTcJ5lmwT",
        "colab_type": "text"
      },
      "source": [
        "See how the numpy array changed in value.\n",
        "\n"
      ]
    },
    {
      "cell_type": "markdown",
      "metadata": {
        "id": "hTx3SZy4lmwV",
        "colab_type": "text"
      },
      "source": [
        "Converting NumPy Array to Torch Tensor\n",
        "^^^^^^^^^^^^^^^^^^^^^^^^^^^^^^^^^^^^^^\n",
        "See how changing the np array changed the Torch Tensor automatically\n",
        "\n"
      ]
    },
    {
      "cell_type": "code",
      "metadata": {
        "id": "c8BgmHkLlmwW",
        "colab_type": "code",
        "colab": {},
        "outputId": "dc31ef51-8ee9-4778-f9df-54d1bff0ab42"
      },
      "source": [
        "from_np = torch.from_numpy(b)\n",
        "print(from_np)"
      ],
      "execution_count": null,
      "outputs": [
        {
          "output_type": "stream",
          "text": [
            "tensor([1., 1., 1., 1., 1.])\n"
          ],
          "name": "stdout"
        }
      ]
    },
    {
      "cell_type": "markdown",
      "metadata": {
        "id": "Ywv362HFlmwa",
        "colab_type": "text"
      },
      "source": [
        "# Tensors"
      ]
    },
    {
      "cell_type": "code",
      "metadata": {
        "id": "JcsQqHcnlmwc",
        "colab_type": "code",
        "colab": {}
      },
      "source": [
        "import matplotlib.image as mpimg \n",
        "import matplotlib.pyplot as plt \n"
      ],
      "execution_count": null,
      "outputs": []
    },
    {
      "cell_type": "code",
      "metadata": {
        "id": "fdCv5sgQlmwi",
        "colab_type": "code",
        "colab": {}
      },
      "source": [
        "img = mpimg.imread('nn.png') "
      ],
      "execution_count": null,
      "outputs": []
    },
    {
      "cell_type": "code",
      "metadata": {
        "id": "wMKaFiZGlmwk",
        "colab_type": "code",
        "colab": {},
        "outputId": "6efbea22-0f4f-43a2-86f6-016ad7e87bd0"
      },
      "source": [
        "type(img)"
      ],
      "execution_count": null,
      "outputs": [
        {
          "output_type": "execute_result",
          "data": {
            "text/plain": [
              "numpy.ndarray"
            ]
          },
          "metadata": {
            "tags": []
          },
          "execution_count": 34
        }
      ]
    },
    {
      "cell_type": "code",
      "metadata": {
        "id": "fB5i3ue9lmwo",
        "colab_type": "code",
        "colab": {},
        "outputId": "c2cd30a9-4a75-4432-857a-6cf06a32666b"
      },
      "source": [
        "img.shape"
      ],
      "execution_count": null,
      "outputs": [
        {
          "output_type": "execute_result",
          "data": {
            "text/plain": [
              "(720, 1280, 4)"
            ]
          },
          "metadata": {
            "tags": []
          },
          "execution_count": 35
        }
      ]
    },
    {
      "cell_type": "code",
      "metadata": {
        "id": "bxb-gGZwlmwt",
        "colab_type": "code",
        "colab": {}
      },
      "source": [
        "img_to_np = torch.from_numpy(img)"
      ],
      "execution_count": null,
      "outputs": []
    },
    {
      "cell_type": "code",
      "metadata": {
        "id": "HSv6U0uvlmwv",
        "colab_type": "code",
        "colab": {},
        "outputId": "d462c342-424c-4b3d-8e4b-f89bc9d2befb"
      },
      "source": [
        "img_to_np.shape"
      ],
      "execution_count": null,
      "outputs": [
        {
          "output_type": "execute_result",
          "data": {
            "text/plain": [
              "torch.Size([720, 1280, 4])"
            ]
          },
          "metadata": {
            "tags": []
          },
          "execution_count": 37
        }
      ]
    },
    {
      "cell_type": "code",
      "metadata": {
        "id": "6UNLOM3ilmwy",
        "colab_type": "code",
        "colab": {}
      },
      "source": [
        ""
      ],
      "execution_count": null,
      "outputs": []
    }
  ]
}